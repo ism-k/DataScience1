{
 "cells": [
  {
   "cell_type": "code",
   "execution_count": 20,
   "metadata": {
    "collapsed": true,
    "pycharm": {
     "is_executing": false
    }
   },
   "outputs": [],
   "source": [
    "from sklearn import datasets\n",
    "from sklearn.model_selection import train_test_split\n",
    "from sklearn import linear_model\n",
    "from sklearn import ensemble\n",
    "import numpy as np\n",
    "from yellowbrick.datasets import load_occupancy\n",
    "from yellowbrick.model_selection import FeatureImportances\n",
    "import seaborn as sns\n",
    "import matplotlib.pyplot as plt\n",
    "import pandas as pd"
   ]
  },
  {
   "cell_type": "code",
   "execution_count": 2,
   "outputs": [],
   "source": [
    "sns.set()\n",
    "dataset = datasets.load_iris()"
   ],
   "metadata": {
    "collapsed": false,
    "pycharm": {
     "name": "#%%\n",
     "is_executing": false
    }
   }
  },
  {
   "cell_type": "code",
   "execution_count": 3,
   "outputs": [],
   "source": [
    "X = dataset.data\n",
    "y = dataset.target\n",
    "y_name = dataset.target_names"
   ],
   "metadata": {
    "collapsed": false,
    "pycharm": {
     "name": "#%%\n",
     "is_executing": false
    }
   }
  },
  {
   "cell_type": "code",
   "execution_count": 28,
   "outputs": [
    {
     "name": "stdout",
     "text": [
      "品種名:  ['setosa' 'versicolor' 'virginica']\n",
      "目的変数:  [0 0 0 0 0 0 0 0 0 0 0 0 0 0 0 0 0 0 0 0 0 0 0 0 0 0 0 0 0 0 0 0 0 0 0 0 0\n",
      " 0 0 0 0 0 0 0 0 0 0 0 0 0 1 1 1 1 1 1 1 1 1 1 1 1 1 1 1 1 1 1 1 1 1 1 1 1\n",
      " 1 1 1 1 1 1 1 1 1 1 1 1 1 1 1 1 1 1 1 1 1 1 1 1 1 1 2 2 2 2 2 2 2 2 2 2 2\n",
      " 2 2 2 2 2 2 2 2 2 2 2 2 2 2 2 2 2 2 2 2 2 2 2 2 2 2 2 2 2 2 2 2 2 2 2 2 2\n",
      " 2 2]\n"
     ],
     "output_type": "stream"
    }
   ],
   "source": [
    "# print(\"品種名: \", y_name)\n",
    "# print(\"目的変数: \", y)\n",
    "# print(\"説明変数: \", X)"
   ],
   "metadata": {
    "collapsed": false,
    "pycharm": {
     "name": "#%%\n",
     "is_executing": false
    }
   }
  },
  {
   "cell_type": "code",
   "execution_count": 5,
   "outputs": [],
   "source": [
    "# データ２分割\n",
    "X_train, X_test, y_train, y_test = train_test_split(X, y, test_size=0.5, random_state=0)"
   ],
   "metadata": {
    "collapsed": false,
    "pycharm": {
     "name": "#%%\n",
     "is_executing": false
    }
   }
  },
  {
   "cell_type": "markdown",
   "source": [
    "まずは普通にロジスティック回帰してみる"
   ],
   "metadata": {
    "collapsed": false
   }
  },
  {
   "cell_type": "code",
   "execution_count": 6,
   "outputs": [
    {
     "data": {
      "text/plain": "LogisticRegression(random_state=0)"
     },
     "metadata": {},
     "output_type": "execute_result",
     "execution_count": 6
    }
   ],
   "source": [
    "# ロジスティック回帰\n",
    "clf = linear_model.LogisticRegression(random_state=0)\n",
    "clf.fit(X_train, y_train)"
   ],
   "metadata": {
    "collapsed": false,
    "pycharm": {
     "name": "#%%\n",
     "is_executing": false
    }
   }
  },
  {
   "cell_type": "code",
   "execution_count": 7,
   "outputs": [
    {
     "name": "stdout",
     "text": [
      "正則化なしの訓練データでの点数:  0.9733333333333334\n",
      "正則化なしのテストデータでの点数:  0.9333333333333333\n"
     ],
     "output_type": "stream"
    }
   ],
   "source": [
    "# 学習結果\n",
    "a = clf.coef_\n",
    "b = clf.intercept_\n",
    "\n",
    "# print(\"回帰係数: \", a)\n",
    "# print(\"切片: \", b)\n",
    "\n",
    "# その予測精度\n",
    "print(\"正則化なしの訓練データでの点数: \", clf.score(X_train,y_train))\n",
    "print(\"正則化なしのテストデータでの点数: \", clf.score(X_test, y_test))"
   ],
   "metadata": {
    "collapsed": false,
    "pycharm": {
     "name": "#%%\n",
     "is_executing": false
    }
   }
  },
  {
   "cell_type": "markdown",
   "source": [
    "L2正則化"
   ],
   "metadata": {
    "collapsed": false,
    "pycharm": {
     "name": "#%% md\n"
    }
   }
  },
  {
   "cell_type": "code",
   "execution_count": 12,
   "outputs": [
    {
     "data": {
      "text/plain": "LogisticRegression(n_jobs=1, random_state=0)"
     },
     "metadata": {},
     "output_type": "execute_result",
     "execution_count": 12
    }
   ],
   "source": [
    "# ロジスティック回帰 + L2正則化\n",
    "clf = linear_model.LogisticRegression(random_state=0, penalty='l2', n_jobs=1, C=1.0)\n",
    "clf.fit(X_train, y_train)"
   ],
   "metadata": {
    "collapsed": false,
    "pycharm": {
     "name": "#%%\n",
     "is_executing": false
    }
   }
  },
  {
   "cell_type": "code",
   "execution_count": 29,
   "outputs": [
    {
     "name": "stdout",
     "text": [
      "回帰係数:  [[ 0.25186066  1.69538301 -2.21578634 -0.20304167]\n",
      " [ 0.          0.          0.          0.        ]\n",
      " [-1.67871551 -0.18098947  2.21973789  1.73970271]]\n",
      "切片:  [ 0.73925838  0.89124842 -1.6305068 ]\n",
      "L2正則化の訓練データでの点数:  0.9866666666666667\n",
      "L2正則のテストデータでの点数:  0.96\n"
     ],
     "output_type": "stream"
    }
   ],
   "source": [
    "# 学習結果\n",
    "a = clf.coef_\n",
    "b = clf.intercept_\n",
    "\n",
    "print(\"回帰係数: \", a)\n",
    "print(\"切片: \", b)\n",
    "\n",
    "# その予測精度\n",
    "print(\"L2正則化の訓練データでの点数: \", clf.score(X_train,y_train))\n",
    "print(\"L2正則のテストデータでの点数: \", clf.score(X_test, y_test))"
   ],
   "metadata": {
    "collapsed": false,
    "pycharm": {
     "name": "#%%\n",
     "is_executing": false
    }
   }
  },
  {
   "cell_type": "markdown",
   "source": [
    "L1正則化"
   ],
   "metadata": {
    "collapsed": false
   }
  },
  {
   "cell_type": "code",
   "execution_count": 14,
   "outputs": [
    {
     "name": "stderr",
     "text": [
      "d:\\users\\izumu\\documents\\datascience1\\lib\\site-packages\\sklearn\\linear_model\\_sag.py:330: ConvergenceWarning: The max_iter was reached which means the coef_ did not converge\n",
      "  \"the coef_ did not converge\", ConvergenceWarning)\n"
     ],
     "output_type": "stream"
    },
    {
     "data": {
      "text/plain": "LogisticRegression(n_jobs=1, penalty='l1', random_state=0, solver='saga')"
     },
     "metadata": {},
     "output_type": "execute_result",
     "execution_count": 14
    }
   ],
   "source": [
    "# ロジスティック回帰 + L1正則化\n",
    "clf = linear_model.LogisticRegression(random_state=0, penalty='l1', n_jobs=1, C=1.0, solver='saga')\n",
    "clf.fit(X_train, y_train)"
   ],
   "metadata": {
    "collapsed": false,
    "pycharm": {
     "name": "#%%\n",
     "is_executing": false
    }
   }
  },
  {
   "cell_type": "code",
   "execution_count": 15,
   "outputs": [
    {
     "name": "stdout",
     "text": [
      "L2正則化の訓練データでの点数:  0.9866666666666667\n",
      "L2正則のテストデータでの点数:  0.96\n"
     ],
     "output_type": "stream"
    }
   ],
   "source": [
    "# 学習結果\n",
    "a = clf.coef_\n",
    "b = clf.intercept_\n",
    "\n",
    "# print(\"回帰係数: \", a)\n",
    "# print(\"切片: \", b)\n",
    "\n",
    "# その予測精度\n",
    "print(\"L2正則化の訓練データでの点数: \", clf.score(X_train,y_train))\n",
    "print(\"L2正則のテストデータでの点数: \", clf.score(X_test, y_test))"
   ],
   "metadata": {
    "collapsed": false,
    "pycharm": {
     "name": "#%%\n",
     "is_executing": false
    }
   }
  },
  {
   "cell_type": "markdown",
   "source": [
    "ランダムフォレストで特徴量の重要度可視化\n",
    "\n",
    "0=がく片の長さ，1=がく片の幅，2=花弁の長さ，3=花弁の幅 [cm]"
   ],
   "metadata": {
    "collapsed": false,
    "pycharm": {
     "name": "#%% md\n"
    }
   }
  },
  {
   "cell_type": "code",
   "execution_count": 31,
   "outputs": [
    {
     "data": {
      "text/plain": "<Figure size 576x396 with 1 Axes>",
      "image/png": "[encoded data removed]"
     },
     "metadata": {},
     "output_type": "display_data"
    },
    {
     "data": {
      "text/plain": "<matplotlib.axes._subplots.AxesSubplot at 0x1a5707e77f0>"
     },
     "metadata": {},
     "output_type": "execute_result",
     "execution_count": 31
    }
   ],
   "source": [
    "# 回帰木\n",
    "rf = ensemble.RandomForestRegressor()\n",
    "\n",
    "viz = FeatureImportances(rf)\n",
    "viz.fit(X_train, y_train)\n",
    "viz.show()"
   ],
   "metadata": {
    "collapsed": false,
    "pycharm": {
     "name": "#%%\n",
     "is_executing": false
    }
   }
  },
  {
   "cell_type": "markdown",
   "source": [
    "LASSO"
   ],
   "metadata": {
    "collapsed": false,
    "pycharm": {
     "name": "#%% md\n"
    }
   }
  },
  {
   "cell_type": "code",
   "execution_count": 30,
   "outputs": [
    {
     "name": "stderr",
     "text": [
      "d:\\users\\izumu\\documents\\datascience1\\lib\\site-packages\\yellowbrick\\model_selection\\importances.py:195: YellowbrickWarning: detected multi-dimensional feature importances but stack=False, using mean to aggregate them.\n",
      "  YellowbrickWarning,\n"
     ],
     "output_type": "stream"
    },
    {
     "data": {
      "text/plain": "<Figure size 576x396 with 1 Axes>",
      "image/png": "[encoded data removed]"
     },
     "metadata": {},
     "output_type": "display_data"
    },
    {
     "data": {
      "text/plain": "<matplotlib.axes._subplots.AxesSubplot at 0x1a57078f4a8>"
     },
     "metadata": {},
     "output_type": "execute_result",
     "execution_count": 30
    }
   ],
   "source": [
    "viz = FeatureImportances(clf, relative=False)\n",
    "viz.fit(X_train, y_train)\n",
    "viz.show()"
   ],
   "metadata": {
    "collapsed": false,
    "pycharm": {
     "name": "#%%\n",
     "is_executing": false
    }
   }
  },
  {
   "cell_type": "code",
   "execution_count": null,
   "outputs": [],
   "source": [
    "\n"
   ],
   "metadata": {
    "collapsed": false,
    "pycharm": {
     "name": "#%%\n"
    }
   }
  }
 ],
 "metadata": {
  "kernelspec": {
   "display_name": "Python 3",
   "language": "python",
   "name": "python3"
  },
  "language_info": {
   "codemirror_mode": {
    "name": "ipython",
    "version": 2
   },
   "file_extension": ".py",
   "mimetype": "text/x-python",
   "name": "python",
   "nbconvert_exporter": "python",
   "pygments_lexer": "ipython2",
   "version": "2.7.6"
  },
  "pycharm": {
   "stem_cell": {
    "cell_type": "raw",
    "source": [],
    "metadata": {
     "collapsed": false
    }
   }
  }
 },
 "nbformat": 4,
 "nbformat_minor": 0
}